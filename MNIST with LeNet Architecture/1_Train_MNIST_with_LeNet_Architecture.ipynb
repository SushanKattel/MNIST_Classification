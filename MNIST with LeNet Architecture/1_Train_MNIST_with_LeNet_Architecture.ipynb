{
  "cells": [
    {
      "cell_type": "code",
      "execution_count": null,
      "metadata": {
        "id": "53-cgyC4yFdb"
      },
      "outputs": [],
      "source": [
        "from lenet_arch import LeNet\n",
        "from tensorflow.keras.optimizers import SGD\n",
        "from sklearn.preprocessing import LabelBinarizer\n",
        "from sklearn.model_selection import train_test_split\n",
        "from sklearn.metrics import classification_report\n",
        "from keras.preprocessing.image import ImageDataGenerator\n",
        "from sklearn.datasets import fetch_openml\n",
        "import matplotlib.pyplot as plt\n",
        "from keras import backend as K\n",
        "from keras.models import load_model\n",
        "import numpy as np"
      ]
    },
    {
      "cell_type": "code",
      "execution_count": null,
      "metadata": {
        "colab": {
          "base_uri": "https://localhost:8080/"
        },
        "id": "9mQuMXoCyNeE",
        "outputId": "83a38dc2-fe33-4995-de1a-5b8c997a315c"
      },
      "outputs": [
        {
          "name": "stdout",
          "output_type": "stream",
          "text": [
            "[INFO] accessing MNIST...\n",
            "done\n"
          ]
        }
      ],
      "source": [
        "# grab the MNIST dataset\n",
        "print(\"[INFO] accessing MNIST...\")\n",
        "dataset = fetch_openml('mnist_784')\n",
        "data = dataset.data\n",
        "print(\"done\")"
      ]
    },
    {
      "cell_type": "code",
      "execution_count": null,
      "metadata": {
        "id": "cT-PkuuHypSr"
      },
      "outputs": [],
      "source": [
        "# scale the input data to the range [0, 1] and perform a train/test split\n",
        "(trainX, testX, trainY, testY) = train_test_split(data / 255.0,\n",
        "                                                  dataset.target.astype(\"int\"), test_size=0.25, random_state=42)"
      ]
    },
    {
      "cell_type": "markdown",
      "metadata": {
        "id": "_eWM6cxUy3v1"
      },
      "source": [
        "\n",
        "If you don't specify the random_state in your code, then every time you run(execute) your code a new random value is generated \n",
        "and the train and test datasets would have different values each time.\n",
        "\n",
        "However, if a fixed value is assigned like random_state = 42 then no matter how many times you execute your code the result \n",
        "would be the same .i.e, same values in train and test datasets."
      ]
    },
    {
      "cell_type": "code",
      "execution_count": null,
      "metadata": {
        "id": "lKdwGm-fy4je"
      },
      "outputs": [],
      "source": [
        "'''\n",
        "# if we are using \"channels first\" ordering, then reshape the design matrix such that the matrix is:\n",
        "# num_samples x depth x rows x columns\n",
        "if K.image_data_format() == \"channels_first\":\n",
        "    data = data.reshape(data.shape[0], 1, 28, 28)\n",
        "\n",
        "# otherwise, we are using \"channels last\" ordering ( Which is default in Tensorflow Backend !), so the design\n",
        "# matrix shape should be: num_samples x rows x columns x depth\n",
        "else:\n",
        "    data = data.values.reshape(data.shape[0], 28, 28, 1)\n",
        "\n",
        "'''"
      ]
    },
    {
      "cell_type": "code",
      "execution_count": null,
      "metadata": {
        "id": "8Z1hAQUs7EyI"
      },
      "outputs": [],
      "source": [
        "if K.image_data_format() == 'channels_first':\n",
        "  trainX = trainX.values.reshape(trainX.shape[0], 1, 28,28)\n",
        "  testX = testX.values.reshape(trainX.shape[0], 1, 28, 28)\n",
        "  input_shape = (1, 28, 28)\n",
        "else:\n",
        "  trainX = trainX.values.reshape(trainX.shape[0],28, 28, 1)\n",
        "  testX = testX.values.reshape(testX.shape[0],28, 28, 1)\n",
        "  input_shape = (28, 28, 1)\n",
        "\n",
        "    \n",
        "trainX = trainX.astype('float32')\n",
        "testX = testX.astype('float32') "
      ]
    },
    {
      "cell_type": "code",
      "execution_count": null,
      "metadata": {
        "id": "B5YO6Ew4y-IN"
      },
      "outputs": [],
      "source": [
        "# convert the labels from integers to vectors\n",
        "le = LabelBinarizer()\n",
        "trainY = le.fit_transform(trainY)\n",
        "testY = le.transform(testY)"
      ]
    },
    {
      "cell_type": "code",
      "execution_count": null,
      "metadata": {
        "id": "vyYyaWGzzDas"
      },
      "outputs": [],
      "source": [
        "aug = ImageDataGenerator(rotation_range=30, width_shift_range=0.1,\n",
        "height_shift_range=0.1, shear_range=0.2, zoom_range=0.2, fill_mode=\"nearest\")"
      ]
    },
    {
      "cell_type": "code",
      "execution_count": null,
      "metadata": {
        "colab": {
          "base_uri": "https://localhost:8080/"
        },
        "id": "58ynipqfzIhT",
        "outputId": "a4f49149-6483-44f0-aad5-9e175c364dd4"
      },
      "outputs": [
        {
          "name": "stdout",
          "output_type": "stream",
          "text": [
            "[INFO] compiling model...\n"
          ]
        },
        {
          "name": "stderr",
          "output_type": "stream",
          "text": [
            "/usr/local/lib/python3.7/dist-packages/keras/optimizer_v2/gradient_descent.py:102: UserWarning: The `lr` argument is deprecated, use `learning_rate` instead.\n",
            "  super(SGD, self).__init__(name, **kwargs)\n"
          ]
        }
      ],
      "source": [
        "# initialize the optimizer and model\n",
        "print(\"[INFO] compiling model...\")\n",
        "opt = SGD(lr=0.01)\n",
        "model = LeNet.build(width=28, height=28, depth=1, classes=10)\n",
        "model.compile(loss=\"categorical_crossentropy\", optimizer=opt, metrics=[\"accuracy\"])"
      ]
    },
    {
      "cell_type": "code",
      "execution_count": null,
      "metadata": {
        "colab": {
          "base_uri": "https://localhost:8080/"
        },
        "id": "qvAs6jsfzLPU",
        "outputId": "b7e978e7-8e0c-4876-8ddf-86c94744a930"
      },
      "outputs": [
        {
          "name": "stdout",
          "output_type": "stream",
          "text": [
            "[INFO] training network...\n"
          ]
        },
        {
          "name": "stderr",
          "output_type": "stream",
          "text": [
            "/usr/local/lib/python3.7/dist-packages/ipykernel_launcher.py:8: UserWarning: `Model.fit_generator` is deprecated and will be removed in a future version. Please use `Model.fit`, which supports generators.\n",
            "  \n"
          ]
        },
        {
          "name": "stdout",
          "output_type": "stream",
          "text": [
            "Epoch 1/50\n",
            "1640/1640 [==============================] - 142s 86ms/step - loss: 0.9642 - accuracy: 0.6873 - val_loss: 0.1618 - val_accuracy: 0.9540\n",
            "Epoch 2/50\n",
            "1640/1640 [==============================] - 139s 85ms/step - loss: 0.2885 - accuracy: 0.9120 - val_loss: 0.1055 - val_accuracy: 0.9671\n",
            "Epoch 3/50\n",
            "1640/1640 [==============================] - 137s 83ms/step - loss: 0.2065 - accuracy: 0.9372 - val_loss: 0.0829 - val_accuracy: 0.9723\n",
            "Epoch 4/50\n",
            "1640/1640 [==============================] - 134s 82ms/step - loss: 0.1656 - accuracy: 0.9500 - val_loss: 0.0757 - val_accuracy: 0.9766\n",
            "Epoch 5/50\n",
            "1640/1640 [==============================] - 136s 83ms/step - loss: 0.1421 - accuracy: 0.9555 - val_loss: 0.0651 - val_accuracy: 0.9783\n",
            "Epoch 6/50\n",
            "1640/1640 [==============================] - 135s 82ms/step - loss: 0.1256 - accuracy: 0.9608 - val_loss: 0.0589 - val_accuracy: 0.9818\n",
            "Epoch 7/50\n",
            "1640/1640 [==============================] - 135s 82ms/step - loss: 0.1124 - accuracy: 0.9647 - val_loss: 0.0507 - val_accuracy: 0.9838\n",
            "Epoch 8/50\n",
            "1640/1640 [==============================] - 138s 84ms/step - loss: 0.1041 - accuracy: 0.9682 - val_loss: 0.0499 - val_accuracy: 0.9840\n",
            "Epoch 9/50\n",
            "1640/1640 [==============================] - 132s 81ms/step - loss: 0.1003 - accuracy: 0.9687 - val_loss: 0.0500 - val_accuracy: 0.9840\n",
            "Epoch 10/50\n",
            "1640/1640 [==============================] - 134s 81ms/step - loss: 0.0920 - accuracy: 0.9709 - val_loss: 0.0459 - val_accuracy: 0.9855\n",
            "Epoch 11/50\n",
            "1640/1640 [==============================] - 133s 81ms/step - loss: 0.0862 - accuracy: 0.9724 - val_loss: 0.0425 - val_accuracy: 0.9856\n",
            "Epoch 12/50\n",
            "1640/1640 [==============================] - 133s 81ms/step - loss: 0.0835 - accuracy: 0.9744 - val_loss: 0.0481 - val_accuracy: 0.9846\n",
            "Epoch 13/50\n",
            "1640/1640 [==============================] - 135s 82ms/step - loss: 0.0778 - accuracy: 0.9756 - val_loss: 0.0381 - val_accuracy: 0.9878\n",
            "Epoch 14/50\n",
            "1640/1640 [==============================] - 133s 81ms/step - loss: 0.0760 - accuracy: 0.9764 - val_loss: 0.0412 - val_accuracy: 0.9857\n",
            "Epoch 15/50\n",
            "1640/1640 [==============================] - 133s 81ms/step - loss: 0.0719 - accuracy: 0.9775 - val_loss: 0.0391 - val_accuracy: 0.9875\n",
            "Epoch 16/50\n",
            "1640/1640 [==============================] - 132s 81ms/step - loss: 0.0682 - accuracy: 0.9785 - val_loss: 0.0489 - val_accuracy: 0.9839\n",
            "Epoch 17/50\n",
            "1640/1640 [==============================] - 133s 81ms/step - loss: 0.0674 - accuracy: 0.9794 - val_loss: 0.0339 - val_accuracy: 0.9884\n",
            "Epoch 18/50\n",
            "1640/1640 [==============================] - 132s 81ms/step - loss: 0.0653 - accuracy: 0.9792 - val_loss: 0.0362 - val_accuracy: 0.9883\n",
            "Epoch 19/50\n",
            "1640/1640 [==============================] - 132s 81ms/step - loss: 0.0622 - accuracy: 0.9809 - val_loss: 0.0331 - val_accuracy: 0.9889\n",
            "Epoch 20/50\n",
            "1640/1640 [==============================] - 134s 82ms/step - loss: 0.0624 - accuracy: 0.9803 - val_loss: 0.0316 - val_accuracy: 0.9899\n",
            "Epoch 21/50\n",
            "1640/1640 [==============================] - 133s 81ms/step - loss: 0.0602 - accuracy: 0.9809 - val_loss: 0.0321 - val_accuracy: 0.9897\n",
            "Epoch 22/50\n",
            "1640/1640 [==============================] - 134s 82ms/step - loss: 0.0580 - accuracy: 0.9818 - val_loss: 0.0346 - val_accuracy: 0.9886\n",
            "Epoch 23/50\n",
            "1640/1640 [==============================] - 136s 83ms/step - loss: 0.0558 - accuracy: 0.9831 - val_loss: 0.0341 - val_accuracy: 0.9890\n",
            "Epoch 24/50\n",
            "1640/1640 [==============================] - 135s 82ms/step - loss: 0.0548 - accuracy: 0.9826 - val_loss: 0.0365 - val_accuracy: 0.9874\n",
            "Epoch 25/50\n",
            "1640/1640 [==============================] - 134s 82ms/step - loss: 0.0558 - accuracy: 0.9825 - val_loss: 0.0337 - val_accuracy: 0.9889\n",
            "Epoch 26/50\n",
            "1640/1640 [==============================] - 134s 82ms/step - loss: 0.0528 - accuracy: 0.9838 - val_loss: 0.0292 - val_accuracy: 0.9909\n",
            "Epoch 27/50\n",
            "1640/1640 [==============================] - 134s 82ms/step - loss: 0.0511 - accuracy: 0.9843 - val_loss: 0.0276 - val_accuracy: 0.9911\n",
            "Epoch 28/50\n",
            "1640/1640 [==============================] - 134s 82ms/step - loss: 0.0526 - accuracy: 0.9836 - val_loss: 0.0266 - val_accuracy: 0.9909\n",
            "Epoch 29/50\n",
            "1640/1640 [==============================] - 135s 82ms/step - loss: 0.0486 - accuracy: 0.9845 - val_loss: 0.0311 - val_accuracy: 0.9899\n",
            "Epoch 30/50\n",
            "1640/1640 [==============================] - 136s 83ms/step - loss: 0.0465 - accuracy: 0.9848 - val_loss: 0.0276 - val_accuracy: 0.9913\n",
            "Epoch 31/50\n",
            "1640/1640 [==============================] - 136s 83ms/step - loss: 0.0481 - accuracy: 0.9847 - val_loss: 0.0269 - val_accuracy: 0.9911\n",
            "Epoch 32/50\n",
            "1640/1640 [==============================] - 135s 82ms/step - loss: 0.0475 - accuracy: 0.9850 - val_loss: 0.0244 - val_accuracy: 0.9922\n",
            "Epoch 33/50\n",
            "1640/1640 [==============================] - 134s 82ms/step - loss: 0.0460 - accuracy: 0.9861 - val_loss: 0.0274 - val_accuracy: 0.9906\n",
            "Epoch 34/50\n",
            "1640/1640 [==============================] - 134s 82ms/step - loss: 0.0459 - accuracy: 0.9856 - val_loss: 0.0254 - val_accuracy: 0.9918\n",
            "Epoch 35/50\n",
            "1640/1640 [==============================] - 134s 82ms/step - loss: 0.0440 - accuracy: 0.9860 - val_loss: 0.0260 - val_accuracy: 0.9921\n",
            "Epoch 36/50\n",
            "1640/1640 [==============================] - 134s 82ms/step - loss: 0.0426 - accuracy: 0.9864 - val_loss: 0.0262 - val_accuracy: 0.9915\n",
            "Epoch 37/50\n",
            "1640/1640 [==============================] - 136s 83ms/step - loss: 0.0440 - accuracy: 0.9868 - val_loss: 0.0311 - val_accuracy: 0.9903\n",
            "Epoch 38/50\n",
            "1640/1640 [==============================] - 135s 82ms/step - loss: 0.0432 - accuracy: 0.9860 - val_loss: 0.0274 - val_accuracy: 0.9911\n",
            "Epoch 39/50\n",
            "1640/1640 [==============================] - 136s 83ms/step - loss: 0.0419 - accuracy: 0.9868 - val_loss: 0.0267 - val_accuracy: 0.9918\n",
            "Epoch 40/50\n",
            "1640/1640 [==============================] - 136s 83ms/step - loss: 0.0412 - accuracy: 0.9874 - val_loss: 0.0253 - val_accuracy: 0.9918\n",
            "Epoch 41/50\n",
            "1640/1640 [==============================] - 136s 83ms/step - loss: 0.0404 - accuracy: 0.9871 - val_loss: 0.0259 - val_accuracy: 0.9918\n",
            "Epoch 42/50\n",
            "1640/1640 [==============================] - 136s 83ms/step - loss: 0.0394 - accuracy: 0.9878 - val_loss: 0.0236 - val_accuracy: 0.9922\n",
            "Epoch 43/50\n",
            "1640/1640 [==============================] - 134s 82ms/step - loss: 0.0401 - accuracy: 0.9873 - val_loss: 0.0245 - val_accuracy: 0.9918\n",
            "Epoch 44/50\n",
            "1640/1640 [==============================] - 133s 81ms/step - loss: 0.0376 - accuracy: 0.9878 - val_loss: 0.0232 - val_accuracy: 0.9923\n",
            "Epoch 45/50\n",
            "1640/1640 [==============================] - 135s 82ms/step - loss: 0.0388 - accuracy: 0.9881 - val_loss: 0.0235 - val_accuracy: 0.9925\n",
            "Epoch 46/50\n",
            "1640/1640 [==============================] - 135s 82ms/step - loss: 0.0398 - accuracy: 0.9879 - val_loss: 0.0288 - val_accuracy: 0.9914\n",
            "Epoch 47/50\n",
            "1640/1640 [==============================] - 136s 83ms/step - loss: 0.0403 - accuracy: 0.9873 - val_loss: 0.0239 - val_accuracy: 0.9925\n",
            "Epoch 48/50\n",
            "1640/1640 [==============================] - 135s 82ms/step - loss: 0.0371 - accuracy: 0.9880 - val_loss: 0.0265 - val_accuracy: 0.9912\n",
            "Epoch 49/50\n",
            "1640/1640 [==============================] - 137s 83ms/step - loss: 0.0375 - accuracy: 0.9882 - val_loss: 0.0290 - val_accuracy: 0.9909\n",
            "Epoch 50/50\n",
            "1640/1640 [==============================] - 137s 84ms/step - loss: 0.0364 - accuracy: 0.9888 - val_loss: 0.0235 - val_accuracy: 0.9929\n"
          ]
        }
      ],
      "source": [
        "# train the network\n",
        "No_of_epoch = 50\n",
        "print(\"[INFO] training network...\")\n",
        "# H = model.fit(trainX, trainY, validation_data=(testX, testY), batch_size=128, epochs=No_of_epoch, verbose=1)\n",
        "\n",
        "H = model.fit_generator(aug.flow(trainX, trainY, batch_size=32),\n",
        "validation_data=(testX, testY), steps_per_epoch=len(trainX) // 32,\n",
        "epochs=No_of_epoch, verbose=1)"
      ]
    },
    {
      "cell_type": "code",
      "execution_count": null,
      "metadata": {
        "colab": {
          "base_uri": "https://localhost:8080/"
        },
        "id": "yGO9zNiTzPQK",
        "outputId": "fafe1f35-3070-4407-f887-dfef56a8c705"
      },
      "outputs": [
        {
          "name": "stdout",
          "output_type": "stream",
          "text": [
            "[INFO] evaluating network...\n",
            "              precision    recall  f1-score   support\n",
            "\n",
            "           0       1.00      1.00      1.00      1714\n",
            "           1       1.00      1.00      1.00      1977\n",
            "           2       0.99      1.00      0.99      1761\n",
            "           3       0.99      1.00      1.00      1806\n",
            "           4       0.99      0.99      0.99      1587\n",
            "           5       1.00      0.99      0.99      1607\n",
            "           6       0.99      1.00      0.99      1761\n",
            "           7       0.99      0.99      0.99      1878\n",
            "           8       0.99      0.99      0.99      1657\n",
            "           9       0.99      0.99      0.99      1752\n",
            "\n",
            "    accuracy                           0.99     17500\n",
            "   macro avg       0.99      0.99      0.99     17500\n",
            "weighted avg       0.99      0.99      0.99     17500\n",
            "\n"
          ]
        }
      ],
      "source": [
        "# evaluate the network\n",
        "print(\"[INFO] evaluating network...\")\n",
        "predictions = model.predict(testX, batch_size=128)\n",
        "print(classification_report(testY.argmax(axis=1), predictions.argmax(axis=1),\n",
        "                            target_names=[str(x) for x in le.classes_]))"
      ]
    },
    {
      "cell_type": "code",
      "execution_count": null,
      "metadata": {
        "colab": {
          "base_uri": "https://localhost:8080/",
          "height": 299
        },
        "id": "Eptd4adEzP7b",
        "outputId": "c50caa74-edd3-489c-8222-fbbfbe31428e"
      },
      "outputs": [
        {
          "data": {
            "image/png": "[encoded data removed]",
            "text/plain": [
              "<Figure size 432x288 with 1 Axes>"
            ]
          },
          "metadata": {},
          "output_type": "display_data"
        }
      ],
      "source": [
        "%matplotlib inline\n",
        "# plot the training loss and accuracy\n",
        "plt.style.use(\"ggplot\")\n",
        "plt.figure()\n",
        "plt.plot(np.arange(0, No_of_epoch), H.history[\"loss\"], label=\"train_loss\")\n",
        "plt.plot(np.arange(0, No_of_epoch), H.history[\"val_loss\"], label=\"val_loss\")\n",
        "plt.plot(np.arange(0, No_of_epoch), H.history[\"accuracy\"], label=\"train_acc\")\n",
        "plt.plot(np.arange(0, No_of_epoch), H.history[\"val_accuracy\"], label=\"val_acc\")\n",
        "plt.title(\"Training Loss and Accuracy\")\n",
        "plt.xlabel(\"Number Of Epoch\")\n",
        "plt.ylabel(\"Loss/Accuracy\")\n",
        "plt.legend()\n",
        "plt.show()"
      ]
    },
    {
      "cell_type": "code",
      "execution_count": null,
      "metadata": {
        "colab": {
          "base_uri": "https://localhost:8080/"
        },
        "id": "-0yargDozSz6",
        "outputId": "c45ffd43-e5ed-4fc7-d4d8-7d4373228544"
      },
      "outputs": [
        {
          "name": "stdout",
          "output_type": "stream",
          "text": [
            "/content/drive/MyDrive/MNIST_digit_classification/LeNet MNIST models\n"
          ]
        }
      ],
      "source": [
        "cd /content/drive/MyDrive/MNIST_digit_classification/LeNet MNIST models"
      ]
    },
    {
      "cell_type": "code",
      "execution_count": null,
      "metadata": {
        "colab": {
          "base_uri": "https://localhost:8080/"
        },
        "id": "FhjRm4B9zY76",
        "outputId": "38a7a3be-4def-416d-d5ac-a9adf482c4eb"
      },
      "outputs": [
        {
          "name": "stdout",
          "output_type": "stream",
          "text": [
            "Done Saving\n"
          ]
        }
      ],
      "source": [
        "model.save(\"modelofMNISTwithLeNet-2.hdf5\")\n",
        "print(\"Done Saving\")\n"
      ]
    },
    {
      "cell_type": "code",
      "execution_count": null,
      "metadata": {
        "colab": {
          "base_uri": "https://localhost:8080/"
        },
        "id": "Eie8Sn0Bzb2S",
        "outputId": "6451a476-0f0a-417b-9728-46fc0abe3304"
      },
      "outputs": [
        {
          "name": "stdout",
          "output_type": "stream",
          "text": [
            "(17500, 28, 28, 1)\n"
          ]
        }
      ],
      "source": [
        "print(testX.shape)"
      ]
    }
  ],
  "metadata": {
    "colab": {
      "collapsed_sections": [],
      "name": "Train_MNIST_with LeNet_Architecture.ipynb",
      "provenance": []
    },
    "kernelspec": {
      "display_name": "Python 3",
      "name": "python3"
    },
    "language_info": {
      "name": "python"
    }
  },
  "nbformat": 4,
  "nbformat_minor": 0
}
